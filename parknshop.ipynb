{
  "nbformat": 4,
  "nbformat_minor": 0,
  "metadata": {
    "colab": {
      "name": "Copy of Video of parknshop.ipynb",
      "version": "0.3.2",
      "provenance": [],
      "collapsed_sections": [],
      "include_colab_link": true
    },
    "kernelspec": {
      "name": "python3",
      "display_name": "Python 3"
    }
  },
  "cells": [
    {
      "cell_type": "markdown",
      "metadata": {
        "id": "view-in-github",
        "colab_type": "text"
      },
      "source": [
        "<a href=\"https://colab.research.google.com/github/ainewbieteam/sharing/blob/master/parknshop.ipynb\" target=\"_parent\"><img src=\"https://colab.research.google.com/assets/colab-badge.svg\" alt=\"Open In Colab\"/></a>"
      ]
    },
    {
      "cell_type": "markdown",
      "metadata": {
        "id": "eTvqdB8JqO6e",
        "colab_type": "text"
      },
      "source": [
        "Selenium Python  提供了一個簡單的API，讓你使用Selenium WebDriver來編寫功能/校驗測試。\n",
        "通過Selenium Python的API，你可以非常直觀的使用Selenium WebDriver的所有功能。\n",
        "\n",
        "Selenium Python  使用非常簡潔方便的API讓你去使用像Firefox, IE, Chrome, Remote等等 這樣的Selenium WebDrivers（Selenium web驅動器）。當前支持的版本為 2.7, 3.2及以上。\n",
        "\n",
        "本文的用來講解說明Selenium 2 WebDriver的API。\n",
        "\n",
        "Selenium-Python中文文档 \n",
        "https://selenium-python-zh.readthedocs.io/en/latest/getting-started.html#id2"
      ]
    },
    {
      "cell_type": "code",
      "metadata": {
        "id": "5JErd_LPwt-r",
        "colab_type": "code",
        "outputId": "9ea2af9f-bb26-45de-eec0-2f86581306fd",
        "colab": {
          "base_uri": "https://localhost:8080/",
          "height": 408
        }
      },
      "source": [
        "!apt-get update\n",
        "!apt install chromium-chromedriver\n",
        "!cp /usr/lib/chromium-browser/chromedriver /usr/bin\n",
        "!pip install selenium\n",
        "\n",
        "from selenium import webdriver\n",
        "from selenium.webdriver.chrome.options import Options\n",
        "from bs4 import BeautifulSoup\n"
      ],
      "execution_count": 0,
      "outputs": [
        {
          "output_type": "stream",
          "text": [
            "\r0% [Working]\r            \rHit:1 https://cloud.r-project.org/bin/linux/ubuntu bionic-cran35/ InRelease\n",
            "\r0% [Connecting to archive.ubuntu.com] [Connecting to security.ubuntu.com (91.18\r0% [1 InRelease gpgv 3,626 B] [Connecting to archive.ubuntu.com] [Connecting to\r                                                                               \rIgn:2 https://developer.download.nvidia.com/compute/cuda/repos/ubuntu1804/x86_64  InRelease\n",
            "\r0% [1 InRelease gpgv 3,626 B] [Connecting to archive.ubuntu.com] [Connecting to\r                                                                               \rIgn:3 https://developer.download.nvidia.com/compute/machine-learning/repos/ubuntu1804/x86_64  InRelease\n",
            "\r0% [1 InRelease gpgv 3,626 B] [Connecting to archive.ubuntu.com] [Connecting to\r                                                                               \rHit:4 https://developer.download.nvidia.com/compute/cuda/repos/ubuntu1804/x86_64  Release\n",
            "\r0% [1 InRelease gpgv 3,626 B] [Connecting to archive.ubuntu.com] [Connecting to\r                                                                               \rHit:5 https://developer.download.nvidia.com/compute/machine-learning/repos/ubuntu1804/x86_64  Release\n",
            "\r0% [1 InRelease gpgv 3,626 B] [Connecting to archive.ubuntu.com (91.189.88.31)]\r                                                                               \rHit:6 http://ppa.launchpad.net/graphics-drivers/ppa/ubuntu bionic InRelease\n",
            "\r0% [1 InRelease gpgv 3,626 B] [Connecting to archive.ubuntu.com (91.189.88.31)]\r                                                                               \rHit:7 http://security.ubuntu.com/ubuntu bionic-security InRelease\n",
            "Hit:8 http://archive.ubuntu.com/ubuntu bionic InRelease\n",
            "Hit:10 http://ppa.launchpad.net/marutter/c2d4u3.5/ubuntu bionic InRelease\n",
            "Hit:11 http://archive.ubuntu.com/ubuntu bionic-updates InRelease\n",
            "Hit:12 http://archive.ubuntu.com/ubuntu bionic-backports InRelease\n",
            "Reading package lists... Done\n",
            "Reading package lists... Done\n",
            "Building dependency tree       \n",
            "Reading state information... Done\n",
            "chromium-chromedriver is already the newest version (75.0.3770.90-0ubuntu0.18.04.1).\n",
            "The following package was automatically installed and is no longer required:\n",
            "  libnvidia-common-410\n",
            "Use 'apt autoremove' to remove it.\n",
            "0 upgraded, 0 newly installed, 0 to remove and 38 not upgraded.\n",
            "cp: '/usr/lib/chromium-browser/chromedriver' and '/usr/bin/chromedriver' are the same file\n",
            "Requirement already satisfied: selenium in /usr/local/lib/python3.6/dist-packages (3.141.0)\n",
            "Requirement already satisfied: urllib3 in /usr/local/lib/python3.6/dist-packages (from selenium) (1.24.3)\n"
          ],
          "name": "stdout"
        }
      ]
    },
    {
      "cell_type": "markdown",
      "metadata": {
        "id": "eXZ7bpknr29b",
        "colab_type": "text"
      },
      "source": [
        "可以從PyPI的官方庫中下載該selenium支持庫， 點此下載 當然， 更好的方法當然是使用 pip 命令來安裝selenium包。\n",
        "你可以像下面這樣安裝 selenium:\n",
        "\n",
        "!pip install selenium"
      ]
    },
    {
      "cell_type": "code",
      "metadata": {
        "id": "2g30gcyjryIL",
        "colab_type": "code",
        "colab": {}
      },
      "source": [
        "options = webdriver.ChromeOptions()\n",
        "\n",
        "options.add_argument('--headless')\n",
        "options.add_argument('--no-sandbox')\n",
        "\n",
        "\n",
        "driver = webdriver.Chrome('chromedriver',options=options)\n",
        "\n",
        "driver.get('https://www.parknshop.com/zh-hk/rank/weeklytop100')\n",
        "soup = BeautifulSoup(driver.page_source, \"html.parser\")"
      ],
      "execution_count": 0,
      "outputs": []
    },
    {
      "cell_type": "markdown",
      "metadata": {
        "id": "zqft9NzYr3Ag",
        "colab_type": "text"
      },
      "source": [
        "\n",
        "\n",
        "*   options.add_argument('--headless') = 瀏覽器不提供可視化頁面, 減少UI and effect\n",
        "*   options.add_argument('--no-sandbox') = 以最高權限運行\n",
        "*  接下來，創建一個chromedriver的實例 = driver = webdriver.Chrome('chromedriver',options=options)\n",
        "* driver.get 方法將打開URL中填寫的地址，WebDriver 將等待， 直到頁面完全加載完畢（其實是等到”onload” 方法執行完畢），然後返回繼續執行你的腳本。值得注意的是，如果你的頁面使用了大量的Ajax加載， WebDriver可能不知道什麼時候頁面已經完全加載:\n",
        "* 然後要將我們剛剛抓下來的東西餵進 BeautifulSoup 內並用一個變數做儲存\n",
        "\n",
        "\n",
        "\n"
      ]
    },
    {
      "cell_type": "code",
      "metadata": {
        "id": "1KTUY13Tr3OD",
        "colab_type": "code",
        "outputId": "9ba2c881-3091-4b8e-96a9-315142cd3fa2",
        "colab": {
          "base_uri": "https://localhost:8080/",
          "height": 1000
        }
      },
      "source": [
        "rdate = soup.find(\"div\",{\"class\":\"product-container\"})\n",
        "rdatelist = rdate.find_all(\"div\",{\"class\":\"border\"})\n",
        "\n",
        "for row in rdatelist:\n",
        "    name = row.find(\"div\",{\"class\":\"name\"})\n",
        "    money = row.find(\"div\",{\"class\":\"price discount newPrice\"})\n",
        "    volumn = row.find(\"div\",{\"class\":\"volumn\"})\n",
        "    \n",
        "    strname = name.text.replace('\\n', '')\n",
        "    strvolumn = volumn.text.replace('\\n', '')\n",
        "    \n",
        "    print (\"name:\",strname)\n",
        "    print ('vol:',strvolumn)\n",
        "    print ('money:',money.text)\n",
        "    print ('===================')\n"
      ],
      "execution_count": 0,
      "outputs": [
        {
          "output_type": "stream",
          "text": [
            "name: 純正泰國頂級香米\n",
            "vol: 8KG\n",
            "money: HK$128.00\n",
            "===================\n",
            "name: 零系汽水迷你罐\n",
            "vol: 6x200ML\n",
            "money: HK$23.50\n",
            "===================\n",
            "name: 天然礦泉水\n",
            "vol: 1.25LX6\n",
            "money: HK$79.50\n",
            "===================\n",
            "name: 得寶盒裝紙巾4盒裝 蘋果木味\n",
            "vol: 4'S\n",
            "money: HK$31.50\n",
            "===================\n",
            "name: 冷泡無糖凍頂烏龍茶飲品\n",
            "vol: 6X250ML\n",
            "money: HK$11.90\n",
            "===================\n",
            "name: 消毒藥水\n",
            "vol: 1200ML\n",
            "money: HK$80.90\n",
            "===================\n",
            "name: 初搾橄欖葵花籽油\n",
            "vol: 3X900ML\n",
            "money: HK$99.90\n",
            "===================\n",
            "name: 鈣思寶高鈣原味大豆飲品250毫升(9包裝)\n",
            "vol: 250MLX9\n",
            "money: HK$33.50\n",
            "===================\n",
            "name: 盒裝紙巾\n",
            "vol: 5'S\n",
            "money: HK$28.90\n",
            "===================\n",
            "name: 檸檬洗潔精泵裝\n",
            "vol: 1.3KG\n",
            "money: HK$27.80\n",
            "===================\n",
            "name: 朱古力家庭裝\n",
            "vol: 144G\n",
            "money: HK$33.50\n",
            "===================\n",
            "name: 萬用消毒噴劑\n",
            "vol: 500ML\n",
            "money: HK$25.90\n",
            "===================\n",
            "name: 可口可樂\n",
            "vol: 330MLx8\n",
            "money: HK$29.90\n",
            "===================\n",
            "name: 迷你熊仔軟糖\n",
            "vol: 250G\n",
            "money: HK$24.90\n",
            "===================\n",
            "name: 金牌咖啡\n",
            "vol: 120G\n",
            "money: HK$79.90\n",
            "===================\n",
            "name: 滴露消毒藥水1.2升(孖裝)加贈品\n",
            "vol: PACK\n",
            "money: HK$135.90\n",
            "===================\n",
            "name: 火腿豬肉\n",
            "vol: 340G\n",
            "money: HK$19.50\n",
            "===================\n",
            "name: Marlborough Sauvignon Blanc\n",
            "vol: 75CL\n",
            "money: HK$149.00\n",
            "===================\n",
            "name: 鈣思寶杏仁高鈣健康飲品1公升(單包裝)\n",
            "vol: 1L\n",
            "money: HK$15.90\n",
            "===================\n",
            "name: 礦物質蒸餾水\n",
            "vol: 4.5L\n",
            "money: HK$22.90\n",
            "===================\n",
            "name: 日本進口一級幫拉拉褲加加大碼30片\n",
            "vol: 30S\n",
            "money: HK$149.00\n",
            "===================\n",
            "name: 蘇維翁白酒\n",
            "vol: 75CL\n",
            "money: HK$79.00\n",
            "===================\n",
            "name: 水晶貓砂\n",
            "vol: 5L\n",
            "money: HK$52.90\n",
            "===================\n",
            "name: 沙律味百力滋\n",
            "vol: 193G\n",
            "money: HK$31.90\n",
            "===================\n",
            "name: 百搭米\n",
            "vol: 5KG\n",
            "money: HK$78.90\n",
            "===================\n",
            "name: 英國早餐红茶\n",
            "vol: 25'S\n",
            "money: HK$34.90\n",
            "===================\n",
            "name: 清啤巨罐4罐裝\n",
            "vol: 500MLx4\n",
            "money: HK$28.00\n",
            "===================\n",
            "name: 蒸餾水 6支裝\n",
            "vol: 800MLX6\n",
            "money: HK$26.50\n",
            "===================\n",
            "name: Uht 牛奶\n",
            "vol: 250MLx6\n",
            "money: HK$35.00\n",
            "===================\n",
            "name: 麥精豆奶125毫升(4包裝)\n",
            "vol: 4X125ML\n",
            "money: HK$11.20\n",
            "===================\n",
            "name: Huggies® 天然加厚嬰兒濕紙巾184片補充裝\n",
            "vol: 184S\n",
            "money: HK$47.90\n",
            "===================\n",
            "name: 全能殺菌消毒綠水一加侖\n",
            "vol: 1GAL\n",
            "money: HK$29.90\n",
            "===================\n",
            "name: 花生朱古力家庭裝\n",
            "vol: 202.5G\n",
            "money: HK$33.50\n",
            "===================\n",
            "name: 潔霸super Clean 抗菌特濃洗衣液補充裝\n",
            "vol: 2X360G\n",
            "money: HK$69.90\n",
            "===================\n",
            "name: 錫蘭檸檬茶250毫升(9包裝)\n",
            "vol: 250MLx9\n",
            "money: HK$23.90\n",
            "===================\n"
          ],
          "name": "stdout"
        }
      ]
    },
    {
      "cell_type": "markdown",
      "metadata": {
        "id": "rTyaCQJhsjzD",
        "colab_type": "text"
      },
      "source": [
        "* 假設我們現在想找所有 Html 的標籤裡面的東西並把他印出來，這時我們只要這樣寫就可以把所有的 div 中標籤內 product-container 的class 找出來 \n",
        "* 之後, 在找出整個  product-container 中 所有 border class 的標籤\n",
        "* 其後用for loop 把所有 div class = border 的 object output 出來\n",
        "* 使用find() 對應每件貸品 name, price, volumn, lazy 的div class\n",
        "* Dictionary是另一種可變容器模型，且可存儲任意類型對象。\n",
        "* Dictionary的每個鍵值 key=>value 對用冒號 : 分割，每個鍵值對之間用逗號 , 分割，整個字典包括在花括號 {} 中 ,格式如下所示\n",
        "* 最後把整個Dictionary 用Array append() 方法在列表末尾添加新的對象\n",
        "* 這樣就能把整個Top100 貸品轉換成有用的資訊了\n"
      ]
    },
    {
      "cell_type": "code",
      "metadata": {
        "id": "SpK_zTKuGhoi",
        "colab_type": "code",
        "colab": {}
      },
      "source": [
        ""
      ],
      "execution_count": 0,
      "outputs": []
    }
  ]
}